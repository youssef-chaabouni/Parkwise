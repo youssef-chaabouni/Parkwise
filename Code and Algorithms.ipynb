{
 "cells": [
  {
   "cell_type": "markdown",
   "id": "twenty-telephone",
   "metadata": {},
   "source": [
    "<h1><center>Code and Algorithms</center></h1>"
   ]
  },
  {
   "cell_type": "markdown",
   "id": "virtual-symphony",
   "metadata": {},
   "source": [
    "We implement here the application algorithm for using the database parameters: 'minute','hour','day','day_w','month','year','available'. The database represents the number of available parking slots in the Kuala Lumpur City Center parking lot over a year in a half. We use the data to predict the number of the available spot there at a given moment in the future."
   ]
  },
  {
   "cell_type": "markdown",
   "id": "binary-wings",
   "metadata": {},
   "source": [
    "### 1: Handling the database"
   ]
  },
  {
   "cell_type": "code",
   "execution_count": 34,
   "id": "signal-slovakia",
   "metadata": {},
   "outputs": [],
   "source": [
    "# Creating .csv file from the database\n",
    "# Database: 'parking-klcc-2016-2017.txt'\n",
    "# Source: 'https://www.kaggle.com/mypapit/klccparking'\n",
    "# Created database file: 'KLCC.csv'\n",
    "\n",
    "import csv\n",
    "import datetime\n",
    "\n",
    "def day_week(year, month, day):\n",
    "    return (int(datetime.date(int(year), int(month), int(day)).strftime('%w')) - 1)%7 + 1\n",
    "\n",
    "def create_database():\n",
    "    with open('KLCC.csv', 'w') as database:\n",
    "        writer = csv.writer(database)\n",
    "        writer.writerow(['minute','hour','day','day_w','month','year','available'])\n",
    "        with open('parking-klcc-2016-2017.txt', 'r') as data:\n",
    "            for line in data.readlines():\n",
    "                if line[5:9] != 'OPEN':\n",
    "                    minute = line[24:26]\n",
    "                    hour = line[21:23]\n",
    "                    day = line[18:20]\n",
    "                    month = line[15:17]\n",
    "                    year = line[10:14]\n",
    "                    day_w = str(day_week(year, month, day))\n",
    "                    available = 0 if line[5:9] == 'FULL' else int(line[5:9])\n",
    "                    writer.writerow([minute,hour,day,day_w,month,year,available])"
   ]
  },
  {
   "cell_type": "code",
   "execution_count": 35,
   "id": "metric-marijuana",
   "metadata": {},
   "outputs": [],
   "source": [
    "#Test\n",
    "create_database()"
   ]
  },
  {
   "cell_type": "code",
   "execution_count": 36,
   "id": "rough-first",
   "metadata": {},
   "outputs": [],
   "source": [
    "#Updating database file 'KLCC.csv'\n",
    "\n",
    "def update_database(data_line):\n",
    "    \"\"\"\n",
    "    Input: data_line of the form: 'minute,hour,day,day_w,month,year,available'\n",
    "    Output: adds the data_line to the database file 'KLCC.csv'\n",
    "    \"\"\"\n",
    "    data = data_line.split(',')\n",
    "    with open('KLCC.csv', 'a') as database:\n",
    "        writer = csv.writer(database)\n",
    "        writer.writerow(data)\n",
    "    "
   ]
  },
  {
   "cell_type": "code",
   "execution_count": 38,
   "id": "cognitive-emission",
   "metadata": {},
   "outputs": [],
   "source": [
    "#Test\n",
    "#data_line = \n",
    "#update_database(data_line)"
   ]
  },
  {
   "cell_type": "markdown",
   "id": "split-tampa",
   "metadata": {},
   "source": [
    "### 2: Implementing the machine learning program"
   ]
  },
  {
   "cell_type": "code",
   "execution_count": 39,
   "id": "aerial-virgin",
   "metadata": {},
   "outputs": [],
   "source": [
    "# loading packages\n",
    "\n",
    "import pandas as pd\n",
    "\n",
    "# data visualization\n",
    "\n",
    "import matplotlib.pyplot as plt\n",
    "\n",
    "# machine learning\n",
    "\n",
    "from sklearn.model_selection import train_test_split\n",
    "from sklearn.ensemble import RandomForestRegressor"
   ]
  },
  {
   "cell_type": "code",
   "execution_count": 40,
   "id": "roman-monthly",
   "metadata": {},
   "outputs": [],
   "source": [
    "#Reading data from database\n",
    "\n",
    "data = pd.read_csv('KLCC.csv')"
   ]
  },
  {
   "cell_type": "code",
   "execution_count": 41,
   "id": "incoming-welcome",
   "metadata": {},
   "outputs": [
    {
     "data": {
      "text/html": [
       "<div>\n",
       "<style scoped>\n",
       "    .dataframe tbody tr th:only-of-type {\n",
       "        vertical-align: middle;\n",
       "    }\n",
       "\n",
       "    .dataframe tbody tr th {\n",
       "        vertical-align: top;\n",
       "    }\n",
       "\n",
       "    .dataframe thead th {\n",
       "        text-align: right;\n",
       "    }\n",
       "</style>\n",
       "<table border=\"1\" class=\"dataframe\">\n",
       "  <thead>\n",
       "    <tr style=\"text-align: right;\">\n",
       "      <th></th>\n",
       "      <th>minute</th>\n",
       "      <th>hour</th>\n",
       "      <th>day</th>\n",
       "      <th>day_w</th>\n",
       "      <th>month</th>\n",
       "      <th>year</th>\n",
       "      <th>available</th>\n",
       "    </tr>\n",
       "  </thead>\n",
       "  <tbody>\n",
       "    <tr>\n",
       "      <th>0</th>\n",
       "      <td>12</td>\n",
       "      <td>10</td>\n",
       "      <td>1</td>\n",
       "      <td>3</td>\n",
       "      <td>6</td>\n",
       "      <td>2016</td>\n",
       "      <td>1642</td>\n",
       "    </tr>\n",
       "    <tr>\n",
       "      <th>1</th>\n",
       "      <td>15</td>\n",
       "      <td>10</td>\n",
       "      <td>1</td>\n",
       "      <td>3</td>\n",
       "      <td>6</td>\n",
       "      <td>2016</td>\n",
       "      <td>1609</td>\n",
       "    </tr>\n",
       "    <tr>\n",
       "      <th>2</th>\n",
       "      <td>30</td>\n",
       "      <td>10</td>\n",
       "      <td>1</td>\n",
       "      <td>3</td>\n",
       "      <td>6</td>\n",
       "      <td>2016</td>\n",
       "      <td>1458</td>\n",
       "    </tr>\n",
       "    <tr>\n",
       "      <th>3</th>\n",
       "      <td>45</td>\n",
       "      <td>10</td>\n",
       "      <td>1</td>\n",
       "      <td>3</td>\n",
       "      <td>6</td>\n",
       "      <td>2016</td>\n",
       "      <td>1357</td>\n",
       "    </tr>\n",
       "    <tr>\n",
       "      <th>4</th>\n",
       "      <td>0</td>\n",
       "      <td>11</td>\n",
       "      <td>1</td>\n",
       "      <td>3</td>\n",
       "      <td>6</td>\n",
       "      <td>2016</td>\n",
       "      <td>1235</td>\n",
       "    </tr>\n",
       "  </tbody>\n",
       "</table>\n",
       "</div>"
      ],
      "text/plain": [
       "   minute  hour  day  day_w  month  year  available\n",
       "0      12    10    1      3      6  2016       1642\n",
       "1      15    10    1      3      6  2016       1609\n",
       "2      30    10    1      3      6  2016       1458\n",
       "3      45    10    1      3      6  2016       1357\n",
       "4       0    11    1      3      6  2016       1235"
      ]
     },
     "execution_count": 41,
     "metadata": {},
     "output_type": "execute_result"
    }
   ],
   "source": [
    "#Visualising dataset\n",
    "\n",
    "data.head()"
   ]
  },
  {
   "cell_type": "code",
   "execution_count": 42,
   "id": "whole-divide",
   "metadata": {},
   "outputs": [],
   "source": [
    "#Setting input values and output values\n",
    "\n",
    "X = data.drop('available', axis=1)\n",
    "y = data['available']"
   ]
  },
  {
   "cell_type": "code",
   "execution_count": 43,
   "id": "shaped-oliver",
   "metadata": {},
   "outputs": [],
   "source": [
    "#Dividing data into training set and testing set\n",
    "\n",
    "X_train, X_test, y_train, y_test = train_test_split(X, y, test_size = 0.2)"
   ]
  },
  {
   "cell_type": "code",
   "execution_count": 44,
   "id": "micro-embassy",
   "metadata": {},
   "outputs": [],
   "source": [
    "#Creating Random Forest Regressor Model based on the training set\n",
    "\n",
    "rf = RandomForestRegressor(random_state=42)\n",
    "model = rf.fit(X_train, y_train)"
   ]
  },
  {
   "cell_type": "code",
   "execution_count": 45,
   "id": "banner-sucking",
   "metadata": {},
   "outputs": [
    {
     "name": "stdout",
     "output_type": "stream",
     "text": [
      "coefficient of determination: 0.9825809957025983\n"
     ]
    }
   ],
   "source": [
    "#Testing the data\n",
    "\n",
    "\n",
    "r_sq = model.score(X_test, y_test)\n",
    "print('coefficient of determination:', r_sq)"
   ]
  },
  {
   "cell_type": "code",
   "execution_count": 46,
   "id": "divine-smell",
   "metadata": {},
   "outputs": [],
   "source": [
    "#Using the Machine learning algorithm to predict the number of available spots at a given moment\n",
    "\n",
    "import datetime\n",
    "\n",
    "def day_week(year, month, day):\n",
    "    return (int(datetime.date(year, month, day).strftime('%w')) - 1)%7 + 1\n",
    "\n",
    "def predict_available(minute, hour, day, month, year):\n",
    "    \"\"\"\n",
    "    Predicts the number of available spots in the parking at the time in the future given by: minute, hour, day, month and year\n",
    "    \"\"\"\n",
    "    day_w = day_week(year, month, day)\n",
    "    available = model.predict([[minute, hour, day, day_w, month, year]])[0]\n",
    "    return available"
   ]
  },
  {
   "cell_type": "code",
   "execution_count": 47,
   "id": "adjustable-dealing",
   "metadata": {},
   "outputs": [],
   "source": [
    "def importance(feature):\n",
    "    \"\"\"\n",
    "    Determines the importance of each of the features: minute, hour, day, day_w, month, year\n",
    "    \"\"\"\n",
    "    features = ['minute', 'hour', 'day', 'day_w', 'month', 'year']\n",
    "    importances = model.feature_importances_\n",
    "    index = features.index(feature)\n",
    "    return f'{round(importances[index]*100,2)} %'"
   ]
  },
  {
   "cell_type": "code",
   "execution_count": 48,
   "id": "divine-image",
   "metadata": {},
   "outputs": [
    {
     "name": "stdout",
     "output_type": "stream",
     "text": [
      "The importance of the minute for prediction 0.74 %\n",
      "The importance of the hour for prediction 51.97 %\n",
      "The importance of the day for prediction 16.2 %\n",
      "The importance of the day_w for prediction 8.29 %\n",
      "The importance of the month for prediction 18.3 %\n",
      "The importance of the year for prediction 4.5 %\n"
     ]
    }
   ],
   "source": [
    "#Test\n",
    "features = ['minute', 'hour', 'day', 'day_w', 'month', 'year']\n",
    "for feature in features:\n",
    "    print(f'The importance of the {feature} for prediction', importance(feature))"
   ]
  }
 ],
 "metadata": {
  "kernelspec": {
   "display_name": "Python 3",
   "language": "python",
   "name": "python3"
  },
  "language_info": {
   "codemirror_mode": {
    "name": "ipython",
    "version": 3
   },
   "file_extension": ".py",
   "mimetype": "text/x-python",
   "name": "python",
   "nbconvert_exporter": "python",
   "pygments_lexer": "ipython3",
   "version": "3.8.8"
  }
 },
 "nbformat": 4,
 "nbformat_minor": 5
}
